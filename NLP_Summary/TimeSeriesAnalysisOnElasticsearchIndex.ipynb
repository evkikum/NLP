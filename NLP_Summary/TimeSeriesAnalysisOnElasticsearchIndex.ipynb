{
 "cells": [
  {
   "cell_type": "code",
   "execution_count": 1,
   "metadata": {
    "scrolled": true
   },
   "outputs": [
    {
     "name": "stderr",
     "output_type": "stream",
     "text": [
      "WARNING:matplotlib.style.core:In C:\\Users\\evkikum\\AppData\\Local\\Continuum\\Anaconda3\\envs\\tsa_course\\lib\\site-packages\\matplotlib\\mpl-data\\stylelib\\_classic_test.mplstyle: \n",
      "The savefig.frameon rcparam was deprecated in Matplotlib 3.1 and will be removed in 3.3.\n",
      "WARNING:matplotlib.style.core:In C:\\Users\\evkikum\\AppData\\Local\\Continuum\\Anaconda3\\envs\\tsa_course\\lib\\site-packages\\matplotlib\\mpl-data\\stylelib\\_classic_test.mplstyle: \n",
      "The verbose.level rcparam was deprecated in Matplotlib 3.1 and will be removed in 3.3.\n",
      "WARNING:matplotlib.style.core:In C:\\Users\\evkikum\\AppData\\Local\\Continuum\\Anaconda3\\envs\\tsa_course\\lib\\site-packages\\matplotlib\\mpl-data\\stylelib\\_classic_test.mplstyle: \n",
      "The verbose.fileo rcparam was deprecated in Matplotlib 3.1 and will be removed in 3.3.\n",
      "ERROR:fbprophet:Importing plotly failed. Interactive plots will not work.\n"
     ]
    }
   ],
   "source": [
    "from pandas.io.json import json_normalize\n",
    "from elasticsearch import helpers, Elasticsearch\n",
    "import pandas as pd\n",
    "import numpy as np\n",
    "from fbprophet import Prophet"
   ]
  },
  {
   "cell_type": "code",
   "execution_count": 2,
   "metadata": {},
   "outputs": [],
   "source": [
    "initial_ts = \"2020-07-26T00:25:01.000Z\""
   ]
  },
  {
   "cell_type": "code",
   "execution_count": 3,
   "metadata": {},
   "outputs": [
    {
     "name": "stderr",
     "output_type": "stream",
     "text": [
      "C:\\Users\\evkikum\\AppData\\Local\\Continuum\\Anaconda3\\envs\\tsa_course\\lib\\site-packages\\elasticsearch\\connection\\http_urllib3.py:206: UserWarning: Connecting to https://10.184.97.138:9200 using SSL with verify_certs=False is insecure.\n",
      "  % self.host\n",
      "C:\\Users\\evkikum\\AppData\\Local\\Continuum\\Anaconda3\\envs\\tsa_course\\lib\\site-packages\\elasticsearch\\connection\\http_urllib3.py:206: UserWarning: Connecting to https://10.184.97.139:9200 using SSL with verify_certs=False is insecure.\n",
      "  % self.host\n",
      "C:\\Users\\evkikum\\AppData\\Local\\Continuum\\Anaconda3\\envs\\tsa_course\\lib\\site-packages\\elasticsearch\\connection\\http_urllib3.py:206: UserWarning: Connecting to https://10.184.97.140:9200 using SSL with verify_certs=False is insecure.\n",
      "  % self.host\n"
     ]
    }
   ],
   "source": [
    "es= Elasticsearch([\"10.184.97.138\",\"10.184.97.139\",\"10.184.97.140\"],\n",
    "                 http_auth=(\"elastic\",\"root123\"),\n",
    "                 port=9200,\n",
    "                 use_ssl=True,\n",
    "                 verify_certs=False)"
   ]
  },
  {
   "cell_type": "code",
   "execution_count": 4,
   "metadata": {
    "scrolled": false
   },
   "outputs": [
    {
     "name": "stderr",
     "output_type": "stream",
     "text": [
      "C:\\Users\\evkikum\\AppData\\Local\\Continuum\\Anaconda3\\envs\\tsa_course\\lib\\site-packages\\urllib3\\connectionpool.py:988: InsecureRequestWarning: Unverified HTTPS request is being made to host '10.184.97.140'. Adding certificate verification is strongly advised. See: https://urllib3.readthedocs.io/en/latest/advanced-usage.html#ssl-warnings\n",
      "  InsecureRequestWarning,\n",
      "INFO:elasticsearch:GET https://10.184.97.140:9200/ [status:200 request:0.375s]\n"
     ]
    },
    {
     "data": {
      "text/plain": [
       "{'name': 'dev-node-3',\n",
       " 'cluster_name': 'lab_development_cluster',\n",
       " 'cluster_uuid': 'jQ2xplAlTEOuI6P-22P6nA',\n",
       " 'version': {'number': '7.9.1',\n",
       "  'build_flavor': 'default',\n",
       "  'build_type': 'rpm',\n",
       "  'build_hash': '083627f112ba94dffc1232e8b42b73492789ef91',\n",
       "  'build_date': '2020-09-01T21:22:21.964974Z',\n",
       "  'build_snapshot': False,\n",
       "  'lucene_version': '8.6.2',\n",
       "  'minimum_wire_compatibility_version': '6.8.0',\n",
       "  'minimum_index_compatibility_version': '6.0.0-beta1'},\n",
       " 'tagline': 'You Know, for Search'}"
      ]
     },
     "execution_count": 4,
     "metadata": {},
     "output_type": "execute_result"
    }
   ],
   "source": [
    "es.info()"
   ]
  },
  {
   "cell_type": "code",
   "execution_count": 5,
   "metadata": {},
   "outputs": [],
   "source": [
    "def fetch_data_from_elasticsearch(timestamp):\n",
    "    \n",
    "    res = es.search(index=\"optus_maip_data_usage_dummy\",body={ \"query\": {\n",
    "        \"range\": {\n",
    "          \"@timestamp\": {\n",
    "            \"gt\": timestamp\n",
    "\n",
    "          }\n",
    "        }\n",
    "      },\n",
    "      \"_source\": [\"DataUsage\",\"RatePlanId\",\"@timestamp\"] ,\n",
    "      \"sort\": [\n",
    "        {\n",
    "          \"@timestamp\": {\n",
    "            \"order\": \"asc\"\n",
    "          }\n",
    "        }\n",
    "      ],\"size\":10000})\n",
    "    \n",
    "    if res[\"hits\"][\"total\"]['value'] > 0:\n",
    "        data=res[\"hits\"][\"hits\"][:]\n",
    "        df_json = json_normalize(data)\n",
    "        df = df_json[[\"_source.@timestamp\",\"_source.DataUsage\",\"_source.RatePlanId\"]]\n",
    "        df.columns = [\"date\",\"dataUsage\",\"rateplanid\"]        \n",
    "        more_data = \"Y\"\n",
    "        \n",
    "    else:\n",
    "        df = pd.DataFrame()\n",
    "        more_data = \"N\"\n",
    "            \n",
    "    return df, more_data\n",
    "        "
   ]
  },
  {
   "cell_type": "code",
   "execution_count": 6,
   "metadata": {},
   "outputs": [],
   "source": [
    "def load_data(timestamp):\n",
    "    df = pd.DataFrame()\n",
    "    data, more_data = fetch_data_from_elasticsearch(initial_ts)\n",
    "    df = df.append(data)    \n",
    "    \n",
    "    while more_data == \"Y\":\n",
    "        ts = data.iloc[-1,0]  \n",
    "        data, more_data = fetch_data_from_elasticsearch(ts)    \n",
    "        if more_data == \"Y\":\n",
    "            df = df.append(data)            \n",
    " \n",
    "    return df\n",
    "    "
   ]
  },
  {
   "cell_type": "code",
   "execution_count": 7,
   "metadata": {
    "scrolled": true
   },
   "outputs": [
    {
     "name": "stderr",
     "output_type": "stream",
     "text": [
      "C:\\Users\\evkikum\\AppData\\Local\\Continuum\\Anaconda3\\envs\\tsa_course\\lib\\site-packages\\urllib3\\connectionpool.py:988: InsecureRequestWarning: Unverified HTTPS request is being made to host '10.184.97.139'. Adding certificate verification is strongly advised. See: https://urllib3.readthedocs.io/en/latest/advanced-usage.html#ssl-warnings\n",
      "  InsecureRequestWarning,\n",
      "INFO:elasticsearch:POST https://10.184.97.139:9200/optus_maip_data_usage_dummy/_search [status:200 request:1.580s]\n",
      "C:\\Users\\evkikum\\AppData\\Local\\Continuum\\Anaconda3\\envs\\tsa_course\\lib\\site-packages\\urllib3\\connectionpool.py:988: InsecureRequestWarning: Unverified HTTPS request is being made to host '10.184.97.138'. Adding certificate verification is strongly advised. See: https://urllib3.readthedocs.io/en/latest/advanced-usage.html#ssl-warnings\n",
      "  InsecureRequestWarning,\n",
      "INFO:elasticsearch:POST https://10.184.97.138:9200/optus_maip_data_usage_dummy/_search [status:200 request:2.381s]\n",
      "C:\\Users\\evkikum\\AppData\\Local\\Continuum\\Anaconda3\\envs\\tsa_course\\lib\\site-packages\\urllib3\\connectionpool.py:988: InsecureRequestWarning: Unverified HTTPS request is being made to host '10.184.97.140'. Adding certificate verification is strongly advised. See: https://urllib3.readthedocs.io/en/latest/advanced-usage.html#ssl-warnings\n",
      "  InsecureRequestWarning,\n",
      "INFO:elasticsearch:POST https://10.184.97.140:9200/optus_maip_data_usage_dummy/_search [status:200 request:1.274s]\n",
      "C:\\Users\\evkikum\\AppData\\Local\\Continuum\\Anaconda3\\envs\\tsa_course\\lib\\site-packages\\urllib3\\connectionpool.py:988: InsecureRequestWarning: Unverified HTTPS request is being made to host '10.184.97.139'. Adding certificate verification is strongly advised. See: https://urllib3.readthedocs.io/en/latest/advanced-usage.html#ssl-warnings\n",
      "  InsecureRequestWarning,\n",
      "INFO:elasticsearch:POST https://10.184.97.139:9200/optus_maip_data_usage_dummy/_search [status:200 request:0.100s]\n"
     ]
    }
   ],
   "source": [
    "df = load_data(initial_ts)      \n",
    "df = df.reset_index()\n",
    "df = df.drop(['index'], axis = 1)\n",
    "    "
   ]
  },
  {
   "cell_type": "code",
   "execution_count": 8,
   "metadata": {},
   "outputs": [
    {
     "data": {
      "text/html": [
       "<div>\n",
       "<style scoped>\n",
       "    .dataframe tbody tr th:only-of-type {\n",
       "        vertical-align: middle;\n",
       "    }\n",
       "\n",
       "    .dataframe tbody tr th {\n",
       "        vertical-align: top;\n",
       "    }\n",
       "\n",
       "    .dataframe thead th {\n",
       "        text-align: right;\n",
       "    }\n",
       "</style>\n",
       "<table border=\"1\" class=\"dataframe\">\n",
       "  <thead>\n",
       "    <tr style=\"text-align: right;\">\n",
       "      <th></th>\n",
       "      <th>date</th>\n",
       "      <th>dataUsage</th>\n",
       "      <th>rateplanid</th>\n",
       "    </tr>\n",
       "  </thead>\n",
       "  <tbody>\n",
       "    <tr>\n",
       "      <th>0</th>\n",
       "      <td>2020-07-26T00:30:20.000Z</td>\n",
       "      <td>0</td>\n",
       "      <td>2111</td>\n",
       "    </tr>\n",
       "    <tr>\n",
       "      <th>1</th>\n",
       "      <td>2020-07-26T00:33:33.000Z</td>\n",
       "      <td>77432725</td>\n",
       "      <td>2111</td>\n",
       "    </tr>\n",
       "    <tr>\n",
       "      <th>2</th>\n",
       "      <td>2020-07-26T00:35:10.000Z</td>\n",
       "      <td>8165205</td>\n",
       "      <td>1038</td>\n",
       "    </tr>\n",
       "    <tr>\n",
       "      <th>3</th>\n",
       "      <td>2020-07-26T00:37:59.000Z</td>\n",
       "      <td>135295</td>\n",
       "      <td>2102</td>\n",
       "    </tr>\n",
       "    <tr>\n",
       "      <th>4</th>\n",
       "      <td>2020-07-26T00:40:32.000Z</td>\n",
       "      <td>1209119</td>\n",
       "      <td>2112</td>\n",
       "    </tr>\n",
       "  </tbody>\n",
       "</table>\n",
       "</div>"
      ],
      "text/plain": [
       "                       date dataUsage rateplanid\n",
       "0  2020-07-26T00:30:20.000Z         0       2111\n",
       "1  2020-07-26T00:33:33.000Z  77432725       2111\n",
       "2  2020-07-26T00:35:10.000Z   8165205       1038\n",
       "3  2020-07-26T00:37:59.000Z    135295       2102\n",
       "4  2020-07-26T00:40:32.000Z   1209119       2112"
      ]
     },
     "execution_count": 8,
     "metadata": {},
     "output_type": "execute_result"
    }
   ],
   "source": [
    "df.head()"
   ]
  },
  {
   "cell_type": "code",
   "execution_count": 9,
   "metadata": {},
   "outputs": [
    {
     "data": {
      "text/plain": [
       "date          29992\n",
       "dataUsage     29992\n",
       "rateplanid    29992\n",
       "dtype: int64"
      ]
     },
     "execution_count": 9,
     "metadata": {},
     "output_type": "execute_result"
    }
   ],
   "source": [
    "df.count()"
   ]
  },
  {
   "cell_type": "code",
   "execution_count": 10,
   "metadata": {},
   "outputs": [],
   "source": [
    "df = df.drop(['rateplanid'], axis=1)"
   ]
  },
  {
   "cell_type": "code",
   "execution_count": 11,
   "metadata": {
    "scrolled": true
   },
   "outputs": [
    {
     "data": {
      "text/html": [
       "<div>\n",
       "<style scoped>\n",
       "    .dataframe tbody tr th:only-of-type {\n",
       "        vertical-align: middle;\n",
       "    }\n",
       "\n",
       "    .dataframe tbody tr th {\n",
       "        vertical-align: top;\n",
       "    }\n",
       "\n",
       "    .dataframe thead th {\n",
       "        text-align: right;\n",
       "    }\n",
       "</style>\n",
       "<table border=\"1\" class=\"dataframe\">\n",
       "  <thead>\n",
       "    <tr style=\"text-align: right;\">\n",
       "      <th></th>\n",
       "      <th>date</th>\n",
       "      <th>dataUsage</th>\n",
       "    </tr>\n",
       "  </thead>\n",
       "  <tbody>\n",
       "    <tr>\n",
       "      <th>0</th>\n",
       "      <td>2020-07-26T00:30:20.000Z</td>\n",
       "      <td>0</td>\n",
       "    </tr>\n",
       "    <tr>\n",
       "      <th>1</th>\n",
       "      <td>2020-07-26T00:33:33.000Z</td>\n",
       "      <td>77432725</td>\n",
       "    </tr>\n",
       "    <tr>\n",
       "      <th>2</th>\n",
       "      <td>2020-07-26T00:35:10.000Z</td>\n",
       "      <td>8165205</td>\n",
       "    </tr>\n",
       "    <tr>\n",
       "      <th>3</th>\n",
       "      <td>2020-07-26T00:37:59.000Z</td>\n",
       "      <td>135295</td>\n",
       "    </tr>\n",
       "    <tr>\n",
       "      <th>4</th>\n",
       "      <td>2020-07-26T00:40:32.000Z</td>\n",
       "      <td>1209119</td>\n",
       "    </tr>\n",
       "  </tbody>\n",
       "</table>\n",
       "</div>"
      ],
      "text/plain": [
       "                       date dataUsage\n",
       "0  2020-07-26T00:30:20.000Z         0\n",
       "1  2020-07-26T00:33:33.000Z  77432725\n",
       "2  2020-07-26T00:35:10.000Z   8165205\n",
       "3  2020-07-26T00:37:59.000Z    135295\n",
       "4  2020-07-26T00:40:32.000Z   1209119"
      ]
     },
     "execution_count": 11,
     "metadata": {},
     "output_type": "execute_result"
    }
   ],
   "source": [
    "df.head()"
   ]
  },
  {
   "cell_type": "code",
   "execution_count": 12,
   "metadata": {},
   "outputs": [],
   "source": [
    "df.columns = ['ds','y']"
   ]
  },
  {
   "cell_type": "code",
   "execution_count": 13,
   "metadata": {
    "scrolled": true
   },
   "outputs": [
    {
     "name": "stdout",
     "output_type": "stream",
     "text": [
      "<class 'pandas.core.frame.DataFrame'>\n",
      "RangeIndex: 29992 entries, 0 to 29991\n",
      "Data columns (total 2 columns):\n",
      "ds    29992 non-null object\n",
      "y     29992 non-null object\n",
      "dtypes: object(2)\n",
      "memory usage: 468.7+ KB\n"
     ]
    }
   ],
   "source": [
    "df.info()"
   ]
  },
  {
   "cell_type": "code",
   "execution_count": 14,
   "metadata": {},
   "outputs": [],
   "source": [
    "df['ds'] = pd.to_datetime(df['ds'])"
   ]
  },
  {
   "cell_type": "code",
   "execution_count": 15,
   "metadata": {
    "scrolled": false
   },
   "outputs": [
    {
     "data": {
      "text/html": [
       "<div>\n",
       "<style scoped>\n",
       "    .dataframe tbody tr th:only-of-type {\n",
       "        vertical-align: middle;\n",
       "    }\n",
       "\n",
       "    .dataframe tbody tr th {\n",
       "        vertical-align: top;\n",
       "    }\n",
       "\n",
       "    .dataframe thead th {\n",
       "        text-align: right;\n",
       "    }\n",
       "</style>\n",
       "<table border=\"1\" class=\"dataframe\">\n",
       "  <thead>\n",
       "    <tr style=\"text-align: right;\">\n",
       "      <th></th>\n",
       "      <th>ds</th>\n",
       "      <th>y</th>\n",
       "    </tr>\n",
       "  </thead>\n",
       "  <tbody>\n",
       "    <tr>\n",
       "      <th>0</th>\n",
       "      <td>2020-07-26 00:30:20</td>\n",
       "      <td>0</td>\n",
       "    </tr>\n",
       "    <tr>\n",
       "      <th>1</th>\n",
       "      <td>2020-07-26 00:33:33</td>\n",
       "      <td>77432725</td>\n",
       "    </tr>\n",
       "    <tr>\n",
       "      <th>2</th>\n",
       "      <td>2020-07-26 00:35:10</td>\n",
       "      <td>8165205</td>\n",
       "    </tr>\n",
       "    <tr>\n",
       "      <th>3</th>\n",
       "      <td>2020-07-26 00:37:59</td>\n",
       "      <td>135295</td>\n",
       "    </tr>\n",
       "    <tr>\n",
       "      <th>4</th>\n",
       "      <td>2020-07-26 00:40:32</td>\n",
       "      <td>1209119</td>\n",
       "    </tr>\n",
       "  </tbody>\n",
       "</table>\n",
       "</div>"
      ],
      "text/plain": [
       "                   ds         y\n",
       "0 2020-07-26 00:30:20         0\n",
       "1 2020-07-26 00:33:33  77432725\n",
       "2 2020-07-26 00:35:10   8165205\n",
       "3 2020-07-26 00:37:59    135295\n",
       "4 2020-07-26 00:40:32   1209119"
      ]
     },
     "execution_count": 15,
     "metadata": {},
     "output_type": "execute_result"
    }
   ],
   "source": [
    "df.head()"
   ]
  },
  {
   "cell_type": "code",
   "execution_count": 16,
   "metadata": {},
   "outputs": [
    {
     "data": {
      "text/html": [
       "<div>\n",
       "<style scoped>\n",
       "    .dataframe tbody tr th:only-of-type {\n",
       "        vertical-align: middle;\n",
       "    }\n",
       "\n",
       "    .dataframe tbody tr th {\n",
       "        vertical-align: top;\n",
       "    }\n",
       "\n",
       "    .dataframe thead th {\n",
       "        text-align: right;\n",
       "    }\n",
       "</style>\n",
       "<table border=\"1\" class=\"dataframe\">\n",
       "  <thead>\n",
       "    <tr style=\"text-align: right;\">\n",
       "      <th></th>\n",
       "      <th>ds</th>\n",
       "      <th>y</th>\n",
       "    </tr>\n",
       "  </thead>\n",
       "  <tbody>\n",
       "    <tr>\n",
       "      <th>29987</th>\n",
       "      <td>2020-09-25 23:54:45</td>\n",
       "      <td>0</td>\n",
       "    </tr>\n",
       "    <tr>\n",
       "      <th>29988</th>\n",
       "      <td>2020-09-26 00:01:41</td>\n",
       "      <td>0</td>\n",
       "    </tr>\n",
       "    <tr>\n",
       "      <th>29989</th>\n",
       "      <td>2020-09-26 00:05:28</td>\n",
       "      <td>135295</td>\n",
       "    </tr>\n",
       "    <tr>\n",
       "      <th>29990</th>\n",
       "      <td>2020-09-26 00:12:05</td>\n",
       "      <td>0</td>\n",
       "    </tr>\n",
       "    <tr>\n",
       "      <th>29991</th>\n",
       "      <td>2020-09-26 00:17:39</td>\n",
       "      <td>708284</td>\n",
       "    </tr>\n",
       "  </tbody>\n",
       "</table>\n",
       "</div>"
      ],
      "text/plain": [
       "                       ds       y\n",
       "29987 2020-09-25 23:54:45       0\n",
       "29988 2020-09-26 00:01:41       0\n",
       "29989 2020-09-26 00:05:28  135295\n",
       "29990 2020-09-26 00:12:05       0\n",
       "29991 2020-09-26 00:17:39  708284"
      ]
     },
     "execution_count": 16,
     "metadata": {},
     "output_type": "execute_result"
    }
   ],
   "source": [
    "df.tail()"
   ]
  },
  {
   "cell_type": "code",
   "execution_count": 17,
   "metadata": {},
   "outputs": [
    {
     "data": {
      "text/plain": [
       "ds    0\n",
       "y     0\n",
       "dtype: int64"
      ]
     },
     "execution_count": 17,
     "metadata": {},
     "output_type": "execute_result"
    }
   ],
   "source": [
    "df.isnull().sum()"
   ]
  },
  {
   "cell_type": "code",
   "execution_count": 18,
   "metadata": {},
   "outputs": [
    {
     "name": "stderr",
     "output_type": "stream",
     "text": [
      "C:\\Users\\evkikum\\AppData\\Local\\Continuum\\Anaconda3\\envs\\tsa_course\\lib\\site-packages\\ipykernel_launcher.py:2: FutureWarning: convert_objects is deprecated.  To re-infer data dtypes for object columns, use Series.infer_objects()\n",
      "For all other conversions use the data-type specific converters pd.to_datetime, pd.to_timedelta and pd.to_numeric.\n",
      "  \n"
     ]
    }
   ],
   "source": [
    "##df['y'] = pd.to_numeric(df['y'])\n",
    "df['y'] = df['y'].convert_objects(convert_numeric=True)"
   ]
  },
  {
   "cell_type": "code",
   "execution_count": 19,
   "metadata": {},
   "outputs": [
    {
     "name": "stdout",
     "output_type": "stream",
     "text": [
      "<class 'pandas.core.frame.DataFrame'>\n",
      "RangeIndex: 29992 entries, 0 to 29991\n",
      "Data columns (total 2 columns):\n",
      "ds    29992 non-null datetime64[ns]\n",
      "y     29992 non-null int64\n",
      "dtypes: datetime64[ns](1), int64(1)\n",
      "memory usage: 468.7 KB\n"
     ]
    }
   ],
   "source": [
    "df.info()"
   ]
  },
  {
   "cell_type": "code",
   "execution_count": 20,
   "metadata": {},
   "outputs": [
    {
     "name": "stderr",
     "output_type": "stream",
     "text": [
      "INFO:fbprophet:Disabling yearly seasonality. Run prophet with yearly_seasonality=True to override this.\n",
      "C:\\Users\\evkikum\\AppData\\Local\\Continuum\\Anaconda3\\envs\\tsa_course\\lib\\site-packages\\pystan\\misc.py:399: FutureWarning: Conversion of the second argument of issubdtype from `float` to `np.floating` is deprecated. In future, it will be treated as `np.float64 == np.dtype(float).type`.\n",
      "  elif np.issubdtype(np.asarray(v).dtype, float):\n"
     ]
    },
    {
     "data": {
      "text/plain": [
       "<fbprophet.forecaster.Prophet at 0x2658a283d68>"
      ]
     },
     "execution_count": 20,
     "metadata": {},
     "output_type": "execute_result"
    }
   ],
   "source": [
    "m = Prophet()\n",
    "m.fit(df)"
   ]
  },
  {
   "cell_type": "code",
   "execution_count": 21,
   "metadata": {
    "scrolled": true
   },
   "outputs": [
    {
     "data": {
      "text/plain": [
       "<matplotlib.axes._subplots.AxesSubplot at 0x26589701cc0>"
      ]
     },
     "execution_count": 21,
     "metadata": {},
     "output_type": "execute_result"
    },
    {
     "data": {
      "image/png": "[encoded data removed]",
      "text/plain": [
       "<Figure size 1296x432 with 1 Axes>"
      ]
     },
     "metadata": {
      "needs_background": "light"
     },
     "output_type": "display_data"
    }
   ],
   "source": [
    "df.plot(x='ds',y='y',figsize=(18,6))"
   ]
  },
  {
   "cell_type": "code",
   "execution_count": 22,
   "metadata": {},
   "outputs": [],
   "source": [
    "future = m.make_future_dataframe(periods=86400,freq='min')"
   ]
  },
  {
   "cell_type": "code",
   "execution_count": 23,
   "metadata": {},
   "outputs": [
    {
     "data": {
      "text/html": [
       "<div>\n",
       "<style scoped>\n",
       "    .dataframe tbody tr th:only-of-type {\n",
       "        vertical-align: middle;\n",
       "    }\n",
       "\n",
       "    .dataframe tbody tr th {\n",
       "        vertical-align: top;\n",
       "    }\n",
       "\n",
       "    .dataframe thead th {\n",
       "        text-align: right;\n",
       "    }\n",
       "</style>\n",
       "<table border=\"1\" class=\"dataframe\">\n",
       "  <thead>\n",
       "    <tr style=\"text-align: right;\">\n",
       "      <th></th>\n",
       "      <th>ds</th>\n",
       "    </tr>\n",
       "  </thead>\n",
       "  <tbody>\n",
       "    <tr>\n",
       "      <th>0</th>\n",
       "      <td>2020-07-26 00:30:20</td>\n",
       "    </tr>\n",
       "    <tr>\n",
       "      <th>1</th>\n",
       "      <td>2020-07-26 00:33:33</td>\n",
       "    </tr>\n",
       "    <tr>\n",
       "      <th>2</th>\n",
       "      <td>2020-07-26 00:35:10</td>\n",
       "    </tr>\n",
       "    <tr>\n",
       "      <th>3</th>\n",
       "      <td>2020-07-26 00:37:59</td>\n",
       "    </tr>\n",
       "    <tr>\n",
       "      <th>4</th>\n",
       "      <td>2020-07-26 00:40:32</td>\n",
       "    </tr>\n",
       "    <tr>\n",
       "      <th>5</th>\n",
       "      <td>2020-07-26 00:42:58</td>\n",
       "    </tr>\n",
       "    <tr>\n",
       "      <th>6</th>\n",
       "      <td>2020-07-26 00:43:19</td>\n",
       "    </tr>\n",
       "    <tr>\n",
       "      <th>7</th>\n",
       "      <td>2020-07-26 00:44:17</td>\n",
       "    </tr>\n",
       "    <tr>\n",
       "      <th>8</th>\n",
       "      <td>2020-07-26 00:46:52</td>\n",
       "    </tr>\n",
       "    <tr>\n",
       "      <th>9</th>\n",
       "      <td>2020-07-26 00:50:51</td>\n",
       "    </tr>\n",
       "    <tr>\n",
       "      <th>10</th>\n",
       "      <td>2020-07-26 00:54:15</td>\n",
       "    </tr>\n",
       "    <tr>\n",
       "      <th>11</th>\n",
       "      <td>2020-07-26 00:54:25</td>\n",
       "    </tr>\n",
       "    <tr>\n",
       "      <th>12</th>\n",
       "      <td>2020-07-26 00:55:39</td>\n",
       "    </tr>\n",
       "    <tr>\n",
       "      <th>13</th>\n",
       "      <td>2020-07-26 00:56:25</td>\n",
       "    </tr>\n",
       "    <tr>\n",
       "      <th>14</th>\n",
       "      <td>2020-07-26 00:57:07</td>\n",
       "    </tr>\n",
       "    <tr>\n",
       "      <th>15</th>\n",
       "      <td>2020-07-26 00:57:57</td>\n",
       "    </tr>\n",
       "    <tr>\n",
       "      <th>16</th>\n",
       "      <td>2020-07-26 00:57:57</td>\n",
       "    </tr>\n",
       "    <tr>\n",
       "      <th>17</th>\n",
       "      <td>2020-07-26 01:00:09</td>\n",
       "    </tr>\n",
       "    <tr>\n",
       "      <th>18</th>\n",
       "      <td>2020-07-26 01:04:08</td>\n",
       "    </tr>\n",
       "    <tr>\n",
       "      <th>19</th>\n",
       "      <td>2020-07-26 01:08:40</td>\n",
       "    </tr>\n",
       "    <tr>\n",
       "      <th>20</th>\n",
       "      <td>2020-07-26 01:09:05</td>\n",
       "    </tr>\n",
       "    <tr>\n",
       "      <th>21</th>\n",
       "      <td>2020-07-26 01:15:16</td>\n",
       "    </tr>\n",
       "    <tr>\n",
       "      <th>22</th>\n",
       "      <td>2020-07-26 01:16:01</td>\n",
       "    </tr>\n",
       "    <tr>\n",
       "      <th>23</th>\n",
       "      <td>2020-07-26 01:16:11</td>\n",
       "    </tr>\n",
       "    <tr>\n",
       "      <th>24</th>\n",
       "      <td>2020-07-26 01:16:41</td>\n",
       "    </tr>\n",
       "    <tr>\n",
       "      <th>25</th>\n",
       "      <td>2020-07-26 01:23:01</td>\n",
       "    </tr>\n",
       "    <tr>\n",
       "      <th>26</th>\n",
       "      <td>2020-07-26 01:24:07</td>\n",
       "    </tr>\n",
       "    <tr>\n",
       "      <th>27</th>\n",
       "      <td>2020-07-26 01:25:31</td>\n",
       "    </tr>\n",
       "    <tr>\n",
       "      <th>28</th>\n",
       "      <td>2020-07-26 01:25:47</td>\n",
       "    </tr>\n",
       "    <tr>\n",
       "      <th>29</th>\n",
       "      <td>2020-07-26 01:26:45</td>\n",
       "    </tr>\n",
       "    <tr>\n",
       "      <th>...</th>\n",
       "      <td>...</td>\n",
       "    </tr>\n",
       "    <tr>\n",
       "      <th>116362</th>\n",
       "      <td>2020-11-24 23:48:39</td>\n",
       "    </tr>\n",
       "    <tr>\n",
       "      <th>116363</th>\n",
       "      <td>2020-11-24 23:49:39</td>\n",
       "    </tr>\n",
       "    <tr>\n",
       "      <th>116364</th>\n",
       "      <td>2020-11-24 23:50:39</td>\n",
       "    </tr>\n",
       "    <tr>\n",
       "      <th>116365</th>\n",
       "      <td>2020-11-24 23:51:39</td>\n",
       "    </tr>\n",
       "    <tr>\n",
       "      <th>116366</th>\n",
       "      <td>2020-11-24 23:52:39</td>\n",
       "    </tr>\n",
       "    <tr>\n",
       "      <th>116367</th>\n",
       "      <td>2020-11-24 23:53:39</td>\n",
       "    </tr>\n",
       "    <tr>\n",
       "      <th>116368</th>\n",
       "      <td>2020-11-24 23:54:39</td>\n",
       "    </tr>\n",
       "    <tr>\n",
       "      <th>116369</th>\n",
       "      <td>2020-11-24 23:55:39</td>\n",
       "    </tr>\n",
       "    <tr>\n",
       "      <th>116370</th>\n",
       "      <td>2020-11-24 23:56:39</td>\n",
       "    </tr>\n",
       "    <tr>\n",
       "      <th>116371</th>\n",
       "      <td>2020-11-24 23:57:39</td>\n",
       "    </tr>\n",
       "    <tr>\n",
       "      <th>116372</th>\n",
       "      <td>2020-11-24 23:58:39</td>\n",
       "    </tr>\n",
       "    <tr>\n",
       "      <th>116373</th>\n",
       "      <td>2020-11-24 23:59:39</td>\n",
       "    </tr>\n",
       "    <tr>\n",
       "      <th>116374</th>\n",
       "      <td>2020-11-25 00:00:39</td>\n",
       "    </tr>\n",
       "    <tr>\n",
       "      <th>116375</th>\n",
       "      <td>2020-11-25 00:01:39</td>\n",
       "    </tr>\n",
       "    <tr>\n",
       "      <th>116376</th>\n",
       "      <td>2020-11-25 00:02:39</td>\n",
       "    </tr>\n",
       "    <tr>\n",
       "      <th>116377</th>\n",
       "      <td>2020-11-25 00:03:39</td>\n",
       "    </tr>\n",
       "    <tr>\n",
       "      <th>116378</th>\n",
       "      <td>2020-11-25 00:04:39</td>\n",
       "    </tr>\n",
       "    <tr>\n",
       "      <th>116379</th>\n",
       "      <td>2020-11-25 00:05:39</td>\n",
       "    </tr>\n",
       "    <tr>\n",
       "      <th>116380</th>\n",
       "      <td>2020-11-25 00:06:39</td>\n",
       "    </tr>\n",
       "    <tr>\n",
       "      <th>116381</th>\n",
       "      <td>2020-11-25 00:07:39</td>\n",
       "    </tr>\n",
       "    <tr>\n",
       "      <th>116382</th>\n",
       "      <td>2020-11-25 00:08:39</td>\n",
       "    </tr>\n",
       "    <tr>\n",
       "      <th>116383</th>\n",
       "      <td>2020-11-25 00:09:39</td>\n",
       "    </tr>\n",
       "    <tr>\n",
       "      <th>116384</th>\n",
       "      <td>2020-11-25 00:10:39</td>\n",
       "    </tr>\n",
       "    <tr>\n",
       "      <th>116385</th>\n",
       "      <td>2020-11-25 00:11:39</td>\n",
       "    </tr>\n",
       "    <tr>\n",
       "      <th>116386</th>\n",
       "      <td>2020-11-25 00:12:39</td>\n",
       "    </tr>\n",
       "    <tr>\n",
       "      <th>116387</th>\n",
       "      <td>2020-11-25 00:13:39</td>\n",
       "    </tr>\n",
       "    <tr>\n",
       "      <th>116388</th>\n",
       "      <td>2020-11-25 00:14:39</td>\n",
       "    </tr>\n",
       "    <tr>\n",
       "      <th>116389</th>\n",
       "      <td>2020-11-25 00:15:39</td>\n",
       "    </tr>\n",
       "    <tr>\n",
       "      <th>116390</th>\n",
       "      <td>2020-11-25 00:16:39</td>\n",
       "    </tr>\n",
       "    <tr>\n",
       "      <th>116391</th>\n",
       "      <td>2020-11-25 00:17:39</td>\n",
       "    </tr>\n",
       "  </tbody>\n",
       "</table>\n",
       "<p>116392 rows × 1 columns</p>\n",
       "</div>"
      ],
      "text/plain": [
       "                        ds\n",
       "0      2020-07-26 00:30:20\n",
       "1      2020-07-26 00:33:33\n",
       "2      2020-07-26 00:35:10\n",
       "3      2020-07-26 00:37:59\n",
       "4      2020-07-26 00:40:32\n",
       "5      2020-07-26 00:42:58\n",
       "6      2020-07-26 00:43:19\n",
       "7      2020-07-26 00:44:17\n",
       "8      2020-07-26 00:46:52\n",
       "9      2020-07-26 00:50:51\n",
       "10     2020-07-26 00:54:15\n",
       "11     2020-07-26 00:54:25\n",
       "12     2020-07-26 00:55:39\n",
       "13     2020-07-26 00:56:25\n",
       "14     2020-07-26 00:57:07\n",
       "15     2020-07-26 00:57:57\n",
       "16     2020-07-26 00:57:57\n",
       "17     2020-07-26 01:00:09\n",
       "18     2020-07-26 01:04:08\n",
       "19     2020-07-26 01:08:40\n",
       "20     2020-07-26 01:09:05\n",
       "21     2020-07-26 01:15:16\n",
       "22     2020-07-26 01:16:01\n",
       "23     2020-07-26 01:16:11\n",
       "24     2020-07-26 01:16:41\n",
       "25     2020-07-26 01:23:01\n",
       "26     2020-07-26 01:24:07\n",
       "27     2020-07-26 01:25:31\n",
       "28     2020-07-26 01:25:47\n",
       "29     2020-07-26 01:26:45\n",
       "...                    ...\n",
       "116362 2020-11-24 23:48:39\n",
       "116363 2020-11-24 23:49:39\n",
       "116364 2020-11-24 23:50:39\n",
       "116365 2020-11-24 23:51:39\n",
       "116366 2020-11-24 23:52:39\n",
       "116367 2020-11-24 23:53:39\n",
       "116368 2020-11-24 23:54:39\n",
       "116369 2020-11-24 23:55:39\n",
       "116370 2020-11-24 23:56:39\n",
       "116371 2020-11-24 23:57:39\n",
       "116372 2020-11-24 23:58:39\n",
       "116373 2020-11-24 23:59:39\n",
       "116374 2020-11-25 00:00:39\n",
       "116375 2020-11-25 00:01:39\n",
       "116376 2020-11-25 00:02:39\n",
       "116377 2020-11-25 00:03:39\n",
       "116378 2020-11-25 00:04:39\n",
       "116379 2020-11-25 00:05:39\n",
       "116380 2020-11-25 00:06:39\n",
       "116381 2020-11-25 00:07:39\n",
       "116382 2020-11-25 00:08:39\n",
       "116383 2020-11-25 00:09:39\n",
       "116384 2020-11-25 00:10:39\n",
       "116385 2020-11-25 00:11:39\n",
       "116386 2020-11-25 00:12:39\n",
       "116387 2020-11-25 00:13:39\n",
       "116388 2020-11-25 00:14:39\n",
       "116389 2020-11-25 00:15:39\n",
       "116390 2020-11-25 00:16:39\n",
       "116391 2020-11-25 00:17:39\n",
       "\n",
       "[116392 rows x 1 columns]"
      ]
     },
     "execution_count": 23,
     "metadata": {},
     "output_type": "execute_result"
    }
   ],
   "source": [
    "future"
   ]
  },
  {
   "cell_type": "code",
   "execution_count": null,
   "metadata": {},
   "outputs": [],
   "source": [
    "forecast = m.predict(future)\n"
   ]
  },
  {
   "cell_type": "code",
   "execution_count": null,
   "metadata": {},
   "outputs": [],
   "source": [
    "forecast.head()"
   ]
  },
  {
   "cell_type": "code",
   "execution_count": null,
   "metadata": {},
   "outputs": [],
   "source": [
    "forecast.columns"
   ]
  },
  {
   "cell_type": "code",
   "execution_count": null,
   "metadata": {},
   "outputs": [],
   "source": [
    "forecast[['ds', 'yhat', 'yhat_lower', 'yhat_upper']].tail(12)"
   ]
  },
  {
   "cell_type": "code",
   "execution_count": null,
   "metadata": {
    "scrolled": true
   },
   "outputs": [],
   "source": [
    "m.plot(forecast);"
   ]
  },
  {
   "cell_type": "code",
   "execution_count": null,
   "metadata": {},
   "outputs": [],
   "source": [
    "forecast.plot(x='ds',y='yhat', figsize=(18,7))"
   ]
  },
  {
   "cell_type": "code",
   "execution_count": null,
   "metadata": {},
   "outputs": [],
   "source": [
    "m.plot_components(forecast);"
   ]
  },
  {
   "cell_type": "code",
   "execution_count": null,
   "metadata": {},
   "outputs": [],
   "source": []
  },
  {
   "cell_type": "code",
   "execution_count": null,
   "metadata": {},
   "outputs": [],
   "source": []
  }
 ],
 "metadata": {
  "kernelspec": {
   "display_name": "Python 3",
   "language": "python",
   "name": "python3"
  },
  "language_info": {
   "codemirror_mode": {
    "name": "ipython",
    "version": 3
   },
   "file_extension": ".py",
   "mimetype": "text/x-python",
   "name": "python",
   "nbconvert_exporter": "python",
   "pygments_lexer": "ipython3",
   "version": "3.7.2"
  }
 },
 "nbformat": 4,
 "nbformat_minor": 4
}
