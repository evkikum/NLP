{
 "cells": [
  {
   "cell_type": "markdown",
   "metadata": {},
   "source": [
    "#### Split on space and calculate the length of resulting list"
   ]
  },
  {
   "cell_type": "code",
   "execution_count": 10,
   "metadata": {},
   "outputs": [
    {
     "name": "stdout",
     "output_type": "stream",
     "text": [
      "['RT', '@AmyMek:', 'The', 'Torched', 'has', 'been', 'passed', '-&gt;.@CandyCrowley', 'is', 'no', 'longer', 'the', 'most', 'Famous', 'Political', 'Assassin!', 'Congratulations', '@megynkelly,', 'U', 'Wiâ€¦']\n",
      "20\n"
     ]
    }
   ],
   "source": [
    "tweet_1 = \"RT @AmyMek: The Torched has been passed -&gt;.@CandyCrowley is no longer the most Famous Political Assassin! Congratulations @megynkelly, U Wiâ€¦\"\n",
    "import re\n",
    "length_tweet = re.split('\\s',tweet_1)\n",
    "\n",
    "print(length_tweet)\n",
    "print(len(length_tweet))"
   ]
  },
  {
   "cell_type": "markdown",
   "metadata": {},
   "source": [
    "#### Filtering out the special characters - use of re.sub()"
   ]
  },
  {
   "cell_type": "code",
   "execution_count": 20,
   "metadata": {},
   "outputs": [
    {
     "name": "stdout",
     "output_type": "stream",
     "text": [
      "RT  AmyMek  The Torched has been passed   gt   CandyCrowley is no longer the most Famous Political Assassin  Congratulations  megynkelly  U Wiâ  \n"
     ]
    }
   ],
   "source": [
    "tweet_1 = \"RT @AmyMek: The Torched has been passed -&gt;.@CandyCrowley is no longer the most Famous Political Assassin! Congratulations @megynkelly, U Wiâ€¦\"\n",
    "import re\n",
    "proc_tweet = re.sub(r'\\W', ' ', tweet_1)\n",
    "\n",
    "print(proc_tweet)"
   ]
  },
  {
   "cell_type": "markdown",
   "metadata": {},
   "source": [
    "#### Remove multiple spaces"
   ]
  },
  {
   "cell_type": "code",
   "execution_count": 21,
   "metadata": {},
   "outputs": [
    {
     "name": "stdout",
     "output_type": "stream",
     "text": [
      "RT AmyMek The Torched has been passed gt CandyCrowley is no longer the most Famous Political Assassin Congratulations megynkelly U Wiâ \n"
     ]
    }
   ],
   "source": [
    "proc_tweet = re.sub(r'\\s+', ' ', proc_tweet)\n",
    "print(proc_tweet)"
   ]
  },
  {
   "cell_type": "markdown",
   "metadata": {},
   "source": [
    "#### Convert to lower case"
   ]
  },
  {
   "cell_type": "code",
   "execution_count": 22,
   "metadata": {},
   "outputs": [
    {
     "name": "stdout",
     "output_type": "stream",
     "text": [
      "rt amymek the torched has been passed gt candycrowley is no longer the most famous political assassin congratulations megynkelly u wiâ \n"
     ]
    }
   ],
   "source": [
    "print(proc_tweet.lower())"
   ]
  },
  {
   "cell_type": "markdown",
   "metadata": {},
   "source": [
    "#### Using findall() function break the below tweet into words based on space."
   ]
  },
  {
   "cell_type": "code",
   "execution_count": 23,
   "metadata": {},
   "outputs": [
    {
     "data": {
      "text/plain": [
       "['RT',\n",
       " '@AmyMek:',\n",
       " 'The',\n",
       " 'Torched',\n",
       " 'has',\n",
       " 'been',\n",
       " 'passed.',\n",
       " '@CandyCrowley',\n",
       " 'is',\n",
       " 'no',\n",
       " 'longer',\n",
       " 'the',\n",
       " 'most',\n",
       " 'Famous',\n",
       " 'Political',\n",
       " 'Assassin!',\n",
       " 'Congratulations',\n",
       " '@megynkelly,',\n",
       " 'U',\n",
       " 'Wiâ€¦']"
      ]
     },
     "execution_count": 23,
     "metadata": {},
     "output_type": "execute_result"
    }
   ],
   "source": [
    "tweet_1 = \"RT @AmyMek: The Torched has been passed. @CandyCrowley is no longer the most Famous Political Assassin! Congratulations @megynkelly, U Wiâ€¦\"\n",
    "\n",
    "re.findall('\\S+', tweet_1)"
   ]
  },
  {
   "cell_type": "code",
   "execution_count": null,
   "metadata": {},
   "outputs": [],
   "source": []
  }
 ],
 "metadata": {
  "kernelspec": {
   "display_name": "Python 3",
   "language": "python",
   "name": "python3"
  },
  "language_info": {
   "codemirror_mode": {
    "name": "ipython",
    "version": 3
   },
   "file_extension": ".py",
   "mimetype": "text/x-python",
   "name": "python",
   "nbconvert_exporter": "python",
   "pygments_lexer": "ipython3",
   "version": "3.6.6"
  }
 },
 "nbformat": 4,
 "nbformat_minor": 2
}
