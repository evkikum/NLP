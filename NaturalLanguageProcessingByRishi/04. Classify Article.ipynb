{
 "cells": [
  {
   "cell_type": "markdown",
   "metadata": {},
   "source": [
    "## Classify Articles:Three Steps\n",
    "- Start with a corpus of articles\n",
    "- Identify underlying themes using kmeans++\n",
    "- Assign themes to new article\n"
   ]
  },
  {
   "cell_type": "code",
   "execution_count": 6,
   "metadata": {},
   "outputs": [],
   "source": [
    "#We have 2804 articles under a folder, read and store them in a List of articles\n",
    "#In case error reading so many files in Jupyter\n",
    "#Step1:On CMD Prompt: $ jupyter notebook --generate-config\n",
    "#Step2: Open the file displayed above and search for c.NotebookApp.iopub_data_rate_limit\n",
    "#Step3: Comment out the line c.NotebookApp.iopub_data_rate_limit = 1000000 and increase one more zero\n",
    "\n",
    "articles = []\n",
    "for i in range(0, 2804):\n",
    "    with open('Data/articles/%s.txt'%i, 'r') as file:\n",
    "        text = file.read()\n",
    "        articles.append(text)"
   ]
  },
  {
   "cell_type": "code",
   "execution_count": 1,
   "metadata": {},
   "outputs": [],
   "source": [
    "#print(articles)"
   ]
  },
  {
   "cell_type": "code",
   "execution_count": 3,
   "metadata": {},
   "outputs": [
    {
     "data": {
      "text/plain": [
       "<2804x13220 sparse matrix of type '<class 'numpy.float64'>'\n",
       "\twith 280835 stored elements in Compressed Sparse Row format>"
      ]
     },
     "execution_count": 3,
     "metadata": {},
     "output_type": "execute_result"
    }
   ],
   "source": [
    "#Convert text to TF-IDF representation\n",
    "from sklearn.feature_extraction.text import TfidfVectorizer\n",
    "\n",
    "#By setting stopwords to relevant language, it will ignore the stopwords\n",
    "vectorizer = TfidfVectorizer(max_df=0.5,min_df=2,stop_words='english')\n",
    "\n",
    "X = vectorizer.fit_transform(articles)\n",
    "X\n"
   ]
  },
  {
   "cell_type": "code",
   "execution_count": 4,
   "metadata": {},
   "outputs": [
    {
     "data": {
      "text/plain": [
       "13220"
      ]
     },
     "execution_count": 4,
     "metadata": {},
     "output_type": "execute_result"
    }
   ],
   "source": [
    "len(vectorizer.vocabulary_)"
   ]
  },
  {
   "cell_type": "code",
   "execution_count": 5,
   "metadata": {
    "scrolled": true
   },
   "outputs": [
    {
     "name": "stdout",
     "output_type": "stream",
     "text": [
      "Cluster = 2 wcss = 2678.878747558282\n",
      "Cluster = 2 silhouette = 0.023648805049372647\n",
      "Cluster = 3 wcss = 2655.0533240237596\n",
      "Cluster = 3 silhouette = 0.014171285899624882\n",
      "Cluster = 4 wcss = 2637.8093069612523\n",
      "Cluster = 4 silhouette = 0.015319906468816324\n",
      "Cluster = 5 wcss = 2617.768022116416\n",
      "Cluster = 5 silhouette = 0.017847629183682347\n",
      "Cluster = 6 wcss = 2601.2448421961967\n",
      "Cluster = 6 silhouette = 0.019611983728491836\n",
      "Cluster = 7 wcss = 2585.2348984784826\n",
      "Cluster = 7 silhouette = 0.02123455725552626\n",
      "Cluster = 8 wcss = 2577.7206582866697\n",
      "Cluster = 8 silhouette = 0.021239426711191337\n",
      "Cluster = 9 wcss = 2562.406257499248\n",
      "Cluster = 9 silhouette = 0.022787451614507136\n",
      "Cluster = 10 wcss = 2556.24989937093\n",
      "Cluster = 10 silhouette = 0.023200325194040524\n"
     ]
    },
    {
     "data": {
      "text/plain": [
       "<Figure size 640x480 with 1 Axes>"
      ]
     },
     "metadata": {},
     "output_type": "display_data"
    }
   ],
   "source": [
    "# Using the elbow method to find the optimal number of clusters\n",
    "import matplotlib.pyplot as plt\n",
    "import pandas as pd\n",
    "from sklearn.cluster import KMeans\n",
    "from sklearn.metrics import silhouette_score\n",
    "\n",
    "wcss = []\n",
    "silhouette = []\n",
    "for i in range(2, 11):\n",
    "    k_means = KMeans(n_clusters = i, init = 'k-means++', random_state = 42)\n",
    "    k_means.fit(X)\n",
    "    print(\"Cluster = {0} wcss = {1}\".format(i, k_means.inertia_))\n",
    "    wcss.append(k_means.inertia_)\n",
    "    pred = k_means.predict(X)\n",
    "    print(\"Cluster = {0} silhouette = {1}\".format(i, silhouette_score(X, pred)))\n",
    "    silhouette.append(silhouette_score(X, pred))\n",
    "plt.plot(range(2, 11), wcss)\n",
    "plt.title('Elbow - Method')\n",
    "plt.xlabel('Number of Clusters')\n",
    "plt.ylabel('WCSS')\n",
    "plt.show()"
   ]
  },
  {
   "cell_type": "code",
   "execution_count": 43,
   "metadata": {},
   "outputs": [
    {
     "data": {
      "image/png": "[encoded data removed]",
      "text/plain": [
       "<Figure size 432x288 with 1 Axes>"
      ]
     },
     "metadata": {
      "needs_background": "light"
     },
     "output_type": "display_data"
    }
   ],
   "source": [
    "plt.plot(range(2, 11), silhouette)\n",
    "plt.title('Silhouette')\n",
    "plt.xlabel('Number of Clusters')\n",
    "plt.ylabel('Silhouette')\n",
    "plt.show()"
   ]
  },
  {
   "cell_type": "code",
   "execution_count": 5,
   "metadata": {
    "scrolled": true
   },
   "outputs": [
    {
     "name": "stdout",
     "output_type": "stream",
     "text": [
      "Initialization complete\n",
      "Iteration  0, inertia 5307.140\n",
      "Iteration  1, inertia 2687.485\n",
      "Iteration  2, inertia 2677.779\n",
      "Iteration  3, inertia 2672.270\n",
      "Iteration  4, inertia 2669.639\n",
      "Iteration  5, inertia 2669.005\n",
      "Iteration  6, inertia 2668.738\n",
      "Iteration  7, inertia 2668.529\n",
      "Iteration  8, inertia 2668.343\n",
      "Iteration  9, inertia 2668.186\n",
      "Iteration 10, inertia 2668.023\n",
      "Iteration 11, inertia 2667.812\n",
      "Iteration 12, inertia 2667.674\n",
      "Iteration 13, inertia 2667.510\n",
      "Iteration 14, inertia 2667.433\n",
      "Iteration 15, inertia 2667.402\n",
      "Iteration 16, inertia 2667.387\n",
      "Iteration 17, inertia 2667.381\n",
      "Iteration 18, inertia 2667.376\n",
      "Iteration 19, inertia 2667.373\n",
      "Converged at iteration 19: center shift 0.000000e+00 within tolerance 7.307995e-09\n"
     ]
    },
    {
     "data": {
      "text/plain": [
       "KMeans(algorithm='auto', copy_x=True, init='k-means++', max_iter=100,\n",
       "       n_clusters=3, n_init=1, n_jobs=None, precompute_distances='auto',\n",
       "       random_state=None, tol=0.0001, verbose=True)"
      ]
     },
     "execution_count": 5,
     "metadata": {},
     "output_type": "execute_result"
    }
   ],
   "source": [
    "#X[0]\n",
    "num_clus = 3\n",
    "from sklearn.cluster import KMeans\n",
    "\n",
    "#max_iter means if algorithm don't converge even after this no# of iteration, it will stop\n",
    "km = KMeans(n_clusters = num_clus, init = 'k-means++', max_iter = 100, n_init = 1, verbose = True)\n",
    "km.fit(X)"
   ]
  },
  {
   "cell_type": "code",
   "execution_count": 6,
   "metadata": {},
   "outputs": [
    {
     "data": {
      "text/plain": [
       "(array([0, 1, 2]), array([ 452, 1943,  409], dtype=int64))"
      ]
     },
     "execution_count": 6,
     "metadata": {},
     "output_type": "execute_result"
    }
   ],
   "source": [
    "import numpy as np\n",
    "\n",
    "#km.lables_ is an attribute of K-means object. unique function will print the unique clusters name with each article have been assign one cluster\n",
    "np.unique(km.labels_, return_counts=True)"
   ]
  },
  {
   "cell_type": "code",
   "execution_count": 8,
   "metadata": {},
   "outputs": [],
   "source": [
    "#Collect articles in each cluster\n",
    "cluster={}\n",
    "for i,clus_no in enumerate(km.labels_):\n",
    "        indiv_doc = articles[i]\n",
    "        if clus_no not in cluster.keys():\n",
    "            cluster[clus_no] = indiv_doc\n",
    "        else:\n",
    "            cluster[clus_no] += indiv_doc"
   ]
  },
  {
   "cell_type": "code",
   "execution_count": 11,
   "metadata": {},
   "outputs": [],
   "source": [
    "from nltk.tokenize import sent_tokenize, word_tokenize\n",
    "from nltk.corpus import stopwords\n",
    "from nltk.probability import FreqDist\n",
    "from collections import defaultdict\n",
    "from string import punctuation\n",
    "from heapq import nlargest\n",
    "import nltk\n",
    "\n",
    "_stopwords = set(stopwords.words('english') + list(punctuation)+[\"month\",\"year\",\"day\",\"'s\",\"''\",\"``\"])\n",
    "\n",
    "#Top keywords in each cluster and their count\n",
    "keywords = {}\n",
    "counts={}\n",
    "for clus_no in range(num_clus):\n",
    "    word_sent = word_tokenize(cluster[clus_no].lower())\n",
    "    word_sent=[word for word in word_sent if word not in _stopwords]\n",
    "    freq = FreqDist(word_sent)\n",
    "    keywords[clus_no] = nlargest(100, freq, key=freq.get)\n",
    "    counts[clus_no]=freq\n",
    "\n",
    "\n",
    "                                                                 \n",
    "                                        "
   ]
  },
  {
   "cell_type": "code",
   "execution_count": 13,
   "metadata": {},
   "outputs": [],
   "source": [
    "#Find unique keywords in each cluster\n",
    "unique_keys={}\n",
    "for clus_no in range(num_clus):\n",
    "    rest_clusters=list(set(range(num_clus))-set([clus_no]))\n",
    "    #collect all the keywords from other clusters\n",
    "    for i in range(num_clus - 1):\n",
    "        if i == 0:\n",
    "            keywords_other_clusters=set(keywords[rest_clusters[i]])\n",
    "        else:\n",
    "            keywords_other_clusters=keywords_other_clusters.union(set(keywords[rest_clusters[i]]))\n",
    "    #Take out these keywords from the whole set to get unique keywords\n",
    "    unique=set(keywords[clus_no])-keywords_other_clusters\n",
    "    #Store top 10 keywords \n",
    "    unique_keys[clus_no]=nlargest(10, unique, key=counts[clus_no].get)"
   ]
  },
  {
   "cell_type": "code",
   "execution_count": 14,
   "metadata": {},
   "outputs": [
    {
     "data": {
      "text/plain": [
       "{0: ['quarter',\n",
       "  'share',\n",
       "  'profit',\n",
       "  'rose',\n",
       "  'analysts',\n",
       "  'earnings',\n",
       "  'fell',\n",
       "  'cents',\n",
       "  'net',\n",
       "  'per'],\n",
       " 1: ['ads',\n",
       "  'video',\n",
       "  'products',\n",
       "  'internet',\n",
       "  'use',\n",
       "  'product',\n",
       "  'search',\n",
       "  'apps',\n",
       "  'pay',\n",
       "  'buy'],\n",
       " 2: ['uber',\n",
       "  'round',\n",
       "  'valuation',\n",
       "  'funding',\n",
       "  'raised',\n",
       "  'private',\n",
       "  'capital',\n",
       "  'lyft',\n",
       "  'investment',\n",
       "  'drivers']}"
      ]
     },
     "execution_count": 14,
     "metadata": {},
     "output_type": "execute_result"
    }
   ],
   "source": [
    "unique_keys"
   ]
  },
  {
   "cell_type": "code",
   "execution_count": 36,
   "metadata": {},
   "outputs": [
    {
     "name": "stdout",
     "output_type": "stream",
     "text": [
      "Article Category = online_deal\n"
     ]
    }
   ],
   "source": [
    "name_article = {0: \"share_market\", 1: \"online_deal\", 2: \"startup_investment\"}\n",
    "\n",
    "article = \"US-based Facebook has agreed to buy 9.99% equity stake in oil-to-retail conglomerate Reliance Industries Ltd’s telecommunications arm Reliance Jio for Rs 43,574 crore. While the Mukesh Ambani-led company said that Facebook and Jio will together further India’s digital economy, the deal in itself has retail at its core, as both Facebook and Reliance Jio eye a huge market of 1.3 billion Indians and Indian businesses. “Our focus will be India’s 60 million micro, small and medium businesses, 120 million farmers, 30 million small merchants and millions of small and medium enterprises in the informal sector,” Reliance Jio said in the statement announcing the deal. In fact, RIL has been building up to become a retail giant with several acquisitions and deals in the past as well.\"\n",
    "from sklearn.neighbors import KNeighborsClassifier\n",
    "\n",
    "#here K(n_neighbors)=5 by default\n",
    "classifier = KNeighborsClassifier(n_neighbors=num_clus)\n",
    "\n",
    "#training phase\n",
    "classifier.fit(X,km.labels_)\n",
    "test=vectorizer.transform([article.encode('ascii',errors='ignore')])\n",
    "cluster_no = classifier.predict(test)\n",
    "print(\"Article Category = %s\" % name_article[list(cluster_no)[0]])"
   ]
  },
  {
   "cell_type": "code",
   "execution_count": null,
   "metadata": {},
   "outputs": [],
   "source": []
  }
 ],
 "metadata": {
  "kernelspec": {
   "display_name": "Python 3",
   "language": "python",
   "name": "python3"
  },
  "language_info": {
   "codemirror_mode": {
    "name": "ipython",
    "version": 3
   },
   "file_extension": ".py",
   "mimetype": "text/x-python",
   "name": "python",
   "nbconvert_exporter": "python",
   "pygments_lexer": "ipython3",
   "version": "3.6.6"
  }
 },
 "nbformat": 4,
 "nbformat_minor": 2
}
