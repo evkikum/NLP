{
 "cells": [
  {
   "cell_type": "code",
   "execution_count": 1,
   "metadata": {},
   "outputs": [
    {
     "name": "stdout",
     "output_type": "stream",
     "text": [
      "['Computers can read text, hear speech, interpret it, measure sentiment and determine which parts are important']\n",
      "['Computers', 'can', 'read', 'text', ',', 'hear', 'speech', ',', 'interpret', 'it', ',', 'measure', 'sentiment', 'and', 'determine', 'which', 'parts', 'are', 'important']\n",
      "[['Computers', 'can', 'read', 'text', ',', 'hear', 'speech', ',', 'interpret', 'it', ',', 'measure', 'sentiment', 'and', 'determine', 'which', 'parts', 'are', 'important']]\n"
     ]
    }
   ],
   "source": [
    "#Tokenization\n",
    "import nltk\n",
    "#nltk.download('punkt')\n",
    "from nltk.tokenize import sent_tokenize, word_tokenize\n",
    "\n",
    "text = \"Computers can read text, hear speech, interpret it, measure sentiment and determine which parts are important\"\n",
    "sents = (sent_tokenize(text)) \n",
    "print(sents)\n",
    "print(word_tokenize(text))\n",
    "words = [word_tokenize(sent) for sent in sents]\n",
    "print(words)"
   ]
  },
  {
   "cell_type": "code",
   "execution_count": 2,
   "metadata": {},
   "outputs": [
    {
     "name": "stdout",
     "output_type": "stream",
     "text": [
      "!\"#$%&'()*+,-./:;<=>?@[\\]^_`{|}~\n",
      "['Computers', 'read', 'text', 'hear', 'speech', 'interpret', 'measure', 'sentiment', 'determine', 'parts', 'important']\n"
     ]
    }
   ],
   "source": [
    "#Removing Stopwords\n",
    "#Import libraries\n",
    "from nltk.tokenize import word_tokenize\n",
    "from nltk.corpus import stopwords\n",
    "from string import punctuation\n",
    "\n",
    "text = \"Computers can read text, hear speech, interpret it, measure sentiment and determine which parts are important\"\n",
    "        \n",
    "print(punctuation)\n",
    "\n",
    "custom_list = set(stopwords.words('english')+list(punctuation))\n",
    "\n",
    "word_list = [word for word in word_tokenize(text) if word not in custom_list]\n",
    "print(word_list)"
   ]
  },
  {
   "cell_type": "code",
   "execution_count": 3,
   "metadata": {},
   "outputs": [
    {
     "data": {
      "text/html": [
       "<div>\n",
       "<style scoped>\n",
       "    .dataframe tbody tr th:only-of-type {\n",
       "        vertical-align: middle;\n",
       "    }\n",
       "\n",
       "    .dataframe tbody tr th {\n",
       "        vertical-align: top;\n",
       "    }\n",
       "\n",
       "    .dataframe thead th {\n",
       "        text-align: right;\n",
       "    }\n",
       "</style>\n",
       "<table border=\"1\" class=\"dataframe\">\n",
       "  <thead>\n",
       "    <tr style=\"text-align: right;\">\n",
       "      <th></th>\n",
       "      <th>Text</th>\n",
       "    </tr>\n",
       "  </thead>\n",
       "  <tbody>\n",
       "    <tr>\n",
       "      <th>0</th>\n",
       "      <td>Computers can read text</td>\n",
       "    </tr>\n",
       "    <tr>\n",
       "      <th>1</th>\n",
       "      <td>Computers can hear speech</td>\n",
       "    </tr>\n",
       "    <tr>\n",
       "      <th>2</th>\n",
       "      <td>They can interpret text as well as speech</td>\n",
       "    </tr>\n",
       "    <tr>\n",
       "      <th>3</th>\n",
       "      <td>They can measure sentiment and determine which...</td>\n",
       "    </tr>\n",
       "  </tbody>\n",
       "</table>\n",
       "</div>"
      ],
      "text/plain": [
       "                                                Text\n",
       "0                            Computers can read text\n",
       "1                          Computers can hear speech\n",
       "2          They can interpret text as well as speech\n",
       "3  They can measure sentiment and determine which..."
      ]
     },
     "execution_count": 3,
     "metadata": {},
     "output_type": "execute_result"
    }
   ],
   "source": [
    "import pandas as pd\n",
    "corpus = [\n",
    "    'Computers can read text',\n",
    "    'Computers can hear speech',\n",
    "    'They can interpret text as well as speech',\n",
    "    'They can measure sentiment and determine which parts are important'\n",
    "]\n",
    "df = pd.DataFrame({'Text':corpus})\n",
    "df"
   ]
  },
  {
   "cell_type": "code",
   "execution_count": 4,
   "metadata": {},
   "outputs": [
    {
     "name": "stdout",
     "output_type": "stream",
     "text": [
      "['and', 'are', 'as', 'can', 'computers', 'determine', 'hear', 'important', 'interpret', 'measure', 'parts', 'read', 'sentiment', 'speech', 'text', 'they', 'well', 'which']\n"
     ]
    }
   ],
   "source": [
    "from sklearn.feature_extraction.text import CountVectorizer\n",
    "count_v = CountVectorizer()\n",
    "X = count_v.fit_transform(df.Text).toarray()\n",
    "print(count_v.get_feature_names())"
   ]
  },
  {
   "cell_type": "code",
   "execution_count": 5,
   "metadata": {},
   "outputs": [
    {
     "name": "stdout",
     "output_type": "stream",
     "text": [
      "[[0 0 0 1 1 0 0 0 0 0 0 1 0 0 1 0 0 0]\n",
      " [0 0 0 1 1 0 1 0 0 0 0 0 0 1 0 0 0 0]\n",
      " [0 0 2 1 0 0 0 0 1 0 0 0 0 1 1 1 1 0]\n",
      " [1 1 0 1 0 1 0 1 0 1 1 0 1 0 0 1 0 1]]\n",
      "{'computers': 4, 'can': 3, 'read': 11, 'text': 14, 'hear': 6, 'speech': 13, 'they': 15, 'interpret': 8, 'as': 2, 'well': 16, 'measure': 9, 'sentiment': 12, 'and': 0, 'determine': 5, 'which': 17, 'parts': 10, 'are': 1, 'important': 7}\n"
     ]
    }
   ],
   "source": [
    "print(X)\n",
    "print(count_v.vocabulary_)"
   ]
  },
  {
   "cell_type": "code",
   "execution_count": 6,
   "metadata": {},
   "outputs": [
    {
     "name": "stdout",
     "output_type": "stream",
     "text": [
      "{'computers': 4, 'can': 3, 'read': 11, 'text': 14, 'hear': 6, 'speech': 13, 'they': 15, 'interpret': 8, 'as': 2, 'well': 16, 'measure': 9, 'sentiment': 12, 'and': 0, 'determine': 5, 'which': 17, 'parts': 10, 'are': 1, 'important': 7}\n",
      "[1.91629073 1.91629073 1.91629073 1.         1.51082562 1.91629073\n",
      " 1.91629073 1.91629073 1.91629073 1.91629073 1.91629073 1.91629073\n",
      " 1.91629073 1.51082562 1.51082562 1.51082562 1.91629073 1.91629073]\n"
     ]
    }
   ],
   "source": [
    "from sklearn.feature_extraction.text import TfidfVectorizer\n",
    "import pandas as pd\n",
    "\n",
    "\n",
    "vectorizer = TfidfVectorizer()\n",
    "vectorizer.fit(corpus)\n",
    "print(vectorizer.vocabulary_)\n",
    "print(vectorizer.idf_)"
   ]
  },
  {
   "cell_type": "code",
   "execution_count": null,
   "metadata": {},
   "outputs": [],
   "source": []
  }
 ],
 "metadata": {
  "kernelspec": {
   "display_name": "Python 3",
   "language": "python",
   "name": "python3"
  },
  "language_info": {
   "codemirror_mode": {
    "name": "ipython",
    "version": 3
   },
   "file_extension": ".py",
   "mimetype": "text/x-python",
   "name": "python",
   "nbconvert_exporter": "python",
   "pygments_lexer": "ipython3",
   "version": "3.6.6"
  }
 },
 "nbformat": 4,
 "nbformat_minor": 2
}
