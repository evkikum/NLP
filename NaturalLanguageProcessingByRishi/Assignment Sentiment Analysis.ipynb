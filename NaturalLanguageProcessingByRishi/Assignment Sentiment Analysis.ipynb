{
 "cells": [
  {
   "cell_type": "markdown",
   "metadata": {},
   "source": [
    "## Assignment Sentiment Analysis"
   ]
  },
  {
   "cell_type": "markdown",
   "metadata": {},
   "source": [
    "## Dataset - Kaggle - Twitter US Airline Sentiment"
   ]
  },
  {
   "cell_type": "code",
   "execution_count": 1,
   "metadata": {},
   "outputs": [],
   "source": [
    "import pandas as pd\n",
    "import numpy as np\n",
    "import matplotlib.pyplot as plt\n",
    "dataset = pd.read_csv(\"Data/Tweets.csv\")"
   ]
  },
  {
   "cell_type": "code",
   "execution_count": 2,
   "metadata": {},
   "outputs": [],
   "source": [
    "features = dataset.iloc[:, 10].values\n",
    "labels = dataset.iloc[:, 1].values\n",
    "import re\n",
    "process_features = []\n",
    "\n",
    "for tweet in range(0, len(features)):\n",
    "    # Filtering out the special characters\n",
    "    clean_tweet = re.sub(r'\\W', ' ', str(features[tweet]))\n",
    "\n",
    "    # Filtering out all single characters\n",
    "    clean_tweet= re.sub(r'\\s+[a-zA-Z]\\s+', ' ', clean_tweet)\n",
    "\n",
    "    # Filtering out single characters from the start\n",
    "    clean_tweet = re.sub(r'\\^[a-zA-Z]\\s+', ' ', clean_tweet) \n",
    "\n",
    "    # Substituting multiple spaces with single space\n",
    "    clean_tweet = re.sub(r'\\s+', ' ', clean_tweet, flags=re.I)\n",
    "\n",
    "    # Removing prefixed 'b'\n",
    "    clean_tweet = re.sub(r'^b\\s+', '', clean_tweet)\n",
    "\n",
    "    # Converting to Lowercase\n",
    "    clean_tweet = clean_tweet.lower()\n",
    "\n",
    "    process_features.append(clean_tweet)"
   ]
  },
  {
   "cell_type": "code",
   "execution_count": 3,
   "metadata": {},
   "outputs": [
    {
     "data": {
      "text/plain": [
       "array([[0., 0., 0., ..., 0., 0., 0.],\n",
       "       [0., 0., 0., ..., 0., 0., 0.],\n",
       "       [0., 0., 0., ..., 0., 0., 0.],\n",
       "       ...,\n",
       "       [0., 0., 0., ..., 0., 0., 0.],\n",
       "       [0., 0., 0., ..., 0., 0., 0.],\n",
       "       [0., 0., 0., ..., 0., 0., 0.]])"
      ]
     },
     "execution_count": 3,
     "metadata": {},
     "output_type": "execute_result"
    }
   ],
   "source": [
    "from sklearn.model_selection import train_test_split\n",
    "X_train, X_test, y_train, y_test = train_test_split(process_features, labels, test_size=0.3, random_state=10)\n",
    "\n",
    "from sklearn.feature_extraction.text import TfidfVectorizer\n",
    "spam_fil = TfidfVectorizer(max_df=0.8,min_df=2,stop_words='english')\n",
    "#spam_fil.fit(X_train) \n",
    "#print(spam_fil.get_feature_names())\n",
    "\n",
    "X_train = spam_fil.fit_transform(X_train).toarray()\n",
    "X_test = spam_fil.transform(X_test).toarray()\n",
    "X_train"
   ]
  },
  {
   "cell_type": "code",
   "execution_count": 4,
   "metadata": {},
   "outputs": [
    {
     "name": "stdout",
     "output_type": "stream",
     "text": [
      "0.4924863387978142\n"
     ]
    }
   ],
   "source": [
    "#Using Naive Bayes\n",
    "from sklearn.naive_bayes import GaussianNB\n",
    "from sklearn.metrics import accuracy_score\n",
    "\n",
    "nb_model = GaussianNB()\n",
    "nb_model.fit(X_train, y_train)\n",
    "\n",
    "pred_test_nb = nb_model.predict(X_test)\n",
    "print(accuracy_score(y_test, pred_test_nb))"
   ]
  },
  {
   "cell_type": "code",
   "execution_count": 5,
   "metadata": {},
   "outputs": [
    {
     "name": "stdout",
     "output_type": "stream",
     "text": [
      "0.694216757741348\n"
     ]
    }
   ],
   "source": [
    "#using K-Nearest Neighbors\n",
    "from sklearn.neighbors import KNeighborsClassifier\n",
    "kneigh = KNeighborsClassifier(n_neighbors = 5)\n",
    "kneigh.fit(X_train, y_train)\n",
    "\n",
    "from sklearn.metrics import accuracy_score, confusion_matrix\n",
    "pred_test = kneigh.predict(X_test)\n",
    "print(accuracy_score(y_test, pred_test))"
   ]
  },
  {
   "cell_type": "code",
   "execution_count": 6,
   "metadata": {},
   "outputs": [
    {
     "name": "stdout",
     "output_type": "stream",
     "text": [
      "[[2560  104   67]\n",
      " [ 540  337   81]\n",
      " [ 220   89  394]]\n",
      "              precision    recall  f1-score   support\n",
      "\n",
      "    negative       0.77      0.94      0.85      2731\n",
      "     neutral       0.64      0.35      0.45       958\n",
      "    positive       0.73      0.56      0.63       703\n",
      "\n",
      "    accuracy                           0.75      4392\n",
      "   macro avg       0.71      0.62      0.64      4392\n",
      "weighted avg       0.73      0.75      0.73      4392\n",
      "\n",
      "0.7493169398907104\n"
     ]
    }
   ],
   "source": [
    "from sklearn.ensemble import RandomForestClassifier\n",
    "\n",
    "text_classifier = RandomForestClassifier(n_estimators=200, random_state=0)\n",
    "text_classifier.fit(X_train, y_train)\n",
    "predictions = text_classifier.predict(X_test)\n",
    "from sklearn.metrics import classification_report, confusion_matrix, accuracy_score\n",
    "\n",
    "print(confusion_matrix(y_test,predictions))\n",
    "print(classification_report(y_test,predictions))\n",
    "print(accuracy_score(y_test, predictions))"
   ]
  },
  {
   "cell_type": "code",
   "execution_count": null,
   "metadata": {},
   "outputs": [],
   "source": []
  }
 ],
 "metadata": {
  "kernelspec": {
   "display_name": "Python 3",
   "language": "python",
   "name": "python3"
  },
  "language_info": {
   "codemirror_mode": {
    "name": "ipython",
    "version": 3
   },
   "file_extension": ".py",
   "mimetype": "text/x-python",
   "name": "python",
   "nbconvert_exporter": "python",
   "pygments_lexer": "ipython3",
   "version": "3.6.6"
  }
 },
 "nbformat": 4,
 "nbformat_minor": 2
}
